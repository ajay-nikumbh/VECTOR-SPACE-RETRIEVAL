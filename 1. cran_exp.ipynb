{
 "cells": [
  {
   "cell_type": "code",
   "execution_count": 1,
   "id": "403d2e99-6f1e-4c43-8798-edf989e49e5c",
   "metadata": {},
   "outputs": [],
   "source": [
    "import requests\n",
    "import json"
   ]
  },
  {
   "cell_type": "code",
   "execution_count": 8,
   "id": "597d4f5b-fd9a-4773-9433-dd25f83a49a2",
   "metadata": {},
   "outputs": [],
   "source": [
    "def search(query):\n",
    "     url = 'http://localhost:9200/cran_experiment/_search'\n",
    "     httpResp = requests.get(url, data=json.dumps(query), headers={\"content-type\":\"application/json\"})\n",
    "     searchHits = json.loads(httpResp.text)[\"hits\"]\n",
    "     print (\"Num\\tRelevance Score\\t\\t ID\\t Title\")\n",
    "     for idx, hit in enumerate(searchHits['hits']):\n",
    "         print(\"%s\\t%s\\t\\t%s\\t%s\" %\n",
    "               (idx + 1, hit['_score'], hit['_source']['id'], hit['_source']['title']))"
   ]
  },
  {
   "cell_type": "code",
   "execution_count": 6,
   "id": "279662ad-d55f-4c30-9c5f-d7a4b5280800",
   "metadata": {},
   "outputs": [],
   "source": [
    "query = {      \n",
    "    \"query\": {\n",
    "        \"match\": {\n",
    "            \"title\": \"what similarity laws must be obeyed when constructing aeroelastic models of heated high speed aircraft\"\n",
    "         }\n",
    "     }\n",
    "}"
   ]
  },
  {
   "cell_type": "code",
   "execution_count": 9,
   "id": "631322e5-0b69-4bca-a3ab-1bd379014759",
   "metadata": {},
   "outputs": [
    {
     "name": "stdout",
     "output_type": "stream",
     "text": [
      "Num\tRelevance Score\t\t ID\t Title\n",
      "1\t20.893234\t\t13\tsimilarity laws for stressing heated wings .\n",
      "2\t14.982676\t\t486\tsimilarity laws for aerothermoelastic testing .\n",
      "3\t14.180654\t\t746\taeroelastic problems in connection with high speed\n",
      "flight .\n",
      "4\t14.128797\t\t792\tsome low speed problems of high speed aircraft .\n",
      "5\t13.973919\t\t875\tmodels for aeroelastic investigation .\n",
      "6\t12.767029\t\t184\tscale models for thermo-aeroelastic research .\n",
      "7\t8.97084\t\t51\ttheory of aircraft structural models subjected to aerodynamic\n",
      "heating and external loads .\n",
      "8\t8.840728\t\t1250\thigh-speed viscous corner flow .\n",
      "9\t8.717799\t\t1268\tstable combustion of a high-velocity gas in a heated\n",
      "boundary layer .\n",
      "10\t8.458953\t\t1111\tsome research on high speed flutter .\n"
     ]
    }
   ],
   "source": [
    "search(query)"
   ]
  },
  {
   "cell_type": "code",
   "execution_count": 10,
   "id": "ec27bdc2-53fd-4d9b-8c8c-12a63c614949",
   "metadata": {},
   "outputs": [],
   "source": [
    "query = {      \n",
    "    \"query\": {\n",
    "        \"multi_match\": {\n",
    "            \"query\": \"what similarity laws must be obeyed when constructing aeroelastic models of heated high speed aircraft\",\n",
    "            \"fields\": [\"title\", \"data\"]\n",
    "         }\n",
    "     }\n",
    "}"
   ]
  },
  {
   "cell_type": "code",
   "execution_count": 11,
   "id": "2c386196-9d28-420f-b947-86aecc1d99f9",
   "metadata": {},
   "outputs": [
    {
     "name": "stdout",
     "output_type": "stream",
     "text": [
      "Num\tRelevance Score\t\t ID\t Title\n",
      "1\t23.102709\t\t184\tscale models for thermo-aeroelastic research .\n",
      "2\t20.907682\t\t486\tsimilarity laws for aerothermoelastic testing .\n",
      "3\t20.893234\t\t13\tsimilarity laws for stressing heated wings .\n",
      "4\t18.222672\t\t1268\tstable combustion of a high-velocity gas in a heated\n",
      "boundary layer .\n",
      "5\t17.901997\t\t12\tsome structural and aerelastic considerations of high\n",
      "speed flight .\n",
      "6\t14.888241\t\t51\ttheory of aircraft structural models subjected to aerodynamic\n",
      "heating and external loads .\n",
      "7\t14.180654\t\t746\taeroelastic problems in connection with high speed\n",
      "flight .\n",
      "8\t14.128797\t\t792\tsome low speed problems of high speed aircraft .\n",
      "9\t14.057334\t\t878\texperimental model techniques and equipment for flutter\n",
      "investigations .\n",
      "10\t14.025684\t\t14\tpiston theory - a new aerodynamic tool for the\n",
      "aeroelastician .\n"
     ]
    }
   ],
   "source": [
    "search(query)"
   ]
  },
  {
   "cell_type": "code",
   "execution_count": 12,
   "id": "806fdaf8-b6ea-46d1-a519-7cfacbdc1430",
   "metadata": {},
   "outputs": [],
   "source": [
    "query = {      \n",
    "    \"query\": {\n",
    "        \"multi_match\": {\n",
    "            \"query\": \"what similarity laws must be obeyed when constructing aeroelastic models of heated high speed aircraft\",\n",
    "            \"fields\": [\"title\", \"data^10\"]\n",
    "         }\n",
    "     }\n",
    "}"
   ]
  },
  {
   "cell_type": "code",
   "execution_count": 13,
   "id": "88b29adb-b7a4-4971-a847-ee6db8520781",
   "metadata": {},
   "outputs": [
    {
     "name": "stdout",
     "output_type": "stream",
     "text": [
      "Num\tRelevance Score\t\t ID\t Title\n",
      "1\t231.02708\t\t184\tscale models for thermo-aeroelastic research .\n",
      "2\t209.07683\t\t486\tsimilarity laws for aerothermoelastic testing .\n",
      "3\t195.75412\t\t13\tsimilarity laws for stressing heated wings .\n",
      "4\t182.22672\t\t1268\tstable combustion of a high-velocity gas in a heated\n",
      "boundary layer .\n",
      "5\t179.01996\t\t12\tsome structural and aerelastic considerations of high\n",
      "speed flight .\n",
      "6\t148.8824\t\t51\ttheory of aircraft structural models subjected to aerodynamic\n",
      "heating and external loads .\n",
      "7\t140.57333\t\t878\texperimental model techniques and equipment for flutter\n",
      "investigations .\n",
      "8\t140.25684\t\t14\tpiston theory - a new aerodynamic tool for the\n",
      "aeroelastician .\n",
      "9\t123.70671\t\t1361\tlarge deflections of structures subjected to heating\n",
      "and external loads .\n",
      "10\t121.41114\t\t172\tsome aerodynamic considerations of nozzle afterbody\n",
      "combination .\n"
     ]
    }
   ],
   "source": [
    "search(query)"
   ]
  },
  {
   "cell_type": "code",
   "execution_count": null,
   "id": "993eee34-e6cd-41cd-872e-2c8b6016cf70",
   "metadata": {},
   "outputs": [],
   "source": []
  }
 ],
 "metadata": {
  "kernelspec": {
   "display_name": "Python 3",
   "language": "python",
   "name": "python3"
  },
  "language_info": {
   "codemirror_mode": {
    "name": "ipython",
    "version": 3
   },
   "file_extension": ".py",
   "mimetype": "text/x-python",
   "name": "python",
   "nbconvert_exporter": "python",
   "pygments_lexer": "ipython3",
   "version": "3.8.10"
  }
 },
 "nbformat": 4,
 "nbformat_minor": 5
}
